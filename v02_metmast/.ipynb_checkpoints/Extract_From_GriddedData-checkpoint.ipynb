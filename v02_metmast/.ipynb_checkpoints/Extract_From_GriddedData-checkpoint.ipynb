{
 "cells": [
  {
   "cell_type": "code",
   "execution_count": 34,
   "metadata": {},
   "outputs": [],
   "source": [
    "# Load the Pandas libraries with alias 'pd' \n",
    "import pandas as pd\n",
    "import xarray as xr\n",
    "import math\n",
    "from datetime import datetime,date\n",
    "import numpy as np"
   ]
  },
  {
   "cell_type": "code",
   "execution_count": null,
   "metadata": {},
   "outputs": [],
   "source": [
    "allreg = 1  # generate all from regular gridded files\n",
    "ireg   = 1  # generate all from irregular gridded files "
   ]
  },
  {
   "cell_type": "markdown",
   "metadata": {},
   "source": [
    "#### Load observations"
   ]
  },
  {
   "cell_type": "code",
   "execution_count": 3,
   "metadata": {},
   "outputs": [],
   "source": [
    "mosasfs30met = xr.open_dataset(\"https://thredds.met.no/thredds/dodsC/metusers/maltem/MOSAiC/mosasfs30met.level2.10min.all.nc\")\n",
    "mosasfs40met = xr.open_dataset(\"https://thredds.met.no/thredds/dodsC/metusers/maltem/MOSAiC/mosasfs40met.level2.10min.all.nc\")\n",
    "mosasfs50met = xr.open_dataset(\"https://thredds.met.no/thredds/dodsC/metusers/maltem/MOSAiC/mosasfs50met.level2.10min.all.nc\")"
   ]
  },
  {
   "cell_type": "code",
   "execution_count": null,
   "metadata": {},
   "outputs": [],
   "source": [
    "idir = '/home/maltem/store/nowwind/MOSAiC/'\n",
    "ERA5ice  = xr.open_mfdataset(idir+'Arctic.ECMWF_extracted_2*.nc')    # SKT, CI, SSTK, ISTL1, TCC\n",
    "ERA5surf = xr.open_mfdataset(idir+'Arctic.ERA5.surfacediag.2*.nc')         # SP, U10M, V10M, T2M\n",
    "ERA5rad  = xr.open_mfdataset(idir+'Arctic.ERA5.radflux.201910-202010.nc')\n",
    "\n",
    "# irregular grids\n",
    "MODIS    = xr.open_mfdataset(idir+'MODIS.surfacetemp.2019.nc')\n",
    "TOPAZ    = xr.open_mfdataset(idir+'TOPAZ4.2019-2020.nc')\n",
    "\n",
    "AROMEf   =  xr.open_mfdataset(idir+'flux.mosaic.AROME.20191015-20200315.nc')\n",
    "AROMEs   =  xr.open_mfdataset(idir+'sfx.mosaic.AROME.20191015-20200315.nc')"
   ]
  },
  {
   "cell_type": "markdown",
   "metadata": {},
   "source": [
    "#### Interpolate to hourly values"
   ]
  },
  {
   "cell_type": "code",
   "execution_count": 28,
   "metadata": {},
   "outputs": [],
   "source": [
    "mosasfs30met_1h = mosasfs30met.resample(time=\"1H\").interpolate(\"linear\")\n",
    "mosasfs40met_1h = mosasfs40met.resample(time=\"1H\").interpolate(\"linear\")\n",
    "mosasfs50met_1h = mosasfs50met.resample(time=\"1H\").interpolate(\"linear\")"
   ]
  },
  {
   "cell_type": "markdown",
   "metadata": {},
   "source": [
    "#### Extract from regular gridded data files"
   ]
  },
  {
   "cell_type": "code",
   "execution_count": 37,
   "metadata": {},
   "outputs": [
    {
     "ename": "IndentationError",
     "evalue": "unindent does not match any outer indentation level (<tokenize>, line 60)",
     "output_type": "error",
     "traceback": [
      "\u001b[0;36m  File \u001b[0;32m\"<tokenize>\"\u001b[0;36m, line \u001b[0;32m60\u001b[0m\n\u001b[0;31m    dfout = pd.DataFrame(list(zip(datet,ssrd,strd,ssru,stru,t2m,u10m,v10m,sp,hice,fice,hsnow)),\u001b[0m\n\u001b[0m    ^\u001b[0m\n\u001b[0;31mIndentationError\u001b[0m\u001b[0;31m:\u001b[0m unindent does not match any outer indentation level\n"
     ]
    }
   ],
   "source": [
    "for statnr in ['30', '40', '50']:  #statnr='30'; # MET station number 30, 40, 50 \n",
    "    \n",
    "    if statnr=='30':\n",
    "        indata = mosasfs30met_1h    \n",
    "    elif statnr=='40':\n",
    "        indata = mosasfs40met_1h \n",
    "    elif statnr== '50':\n",
    "        indata = mosasfs50met_1h     \n",
    "    \n",
    "    t2m=[];u10m=[];v10m=[];sp=[];datet=[]; ssrd=[];strd=[];ssru=[];stru=[];hsnow=[];fice=[];hice=[];ist=[];\n",
    "    tcc=[]; skt=[]; istl=[]; sstk=[]; ci=[];\n",
    "    ARhsnow=[]; ARist=[]; ARstrd=[];\n",
    "\n",
    "    for t in range(indata.sizes['time']):\n",
    "    \n",
    "        tdate = indata.time[t].values\n",
    "        datet.append(tdate)\n",
    "        print(datet)\n",
    "        if (~np.isnan(indata.lat[t].values)) & (~np.isnan(indata.lon[t].values)):\n",
    "    \n",
    "            latpos = indata.lat[t].values\n",
    "            lonpos = indata.lon[t].values\n",
    "        \n",
    "            # Regular gridded \n",
    "        \n",
    "            ssrd.append(np.array(ERA5rad.sel(time=tdate, lon=lonpos, lat=latpos, method='nearest').SSRD))\n",
    "            strd.append(np.array(ERA5rad.sel(time=tdate, lon=lonpos, lat=latpos, method='nearest').STRD))\n",
    "            ssru.append(np.array(ERA5rad.sel(time=tdate, lon=lonpos, lat=latpos, method='nearest').SSR))\n",
    "            stru.append(np.array(ERA5rad.sel(time=tdate, lon=lonpos, lat=latpos, method='nearest').STR))\n",
    "\n",
    "            t2m.append(np.array(ERA5surf.sel(time=tdate, lon=lonpos, lat=latpos, method='nearest').T2M))\n",
    "            u10m.append(np.array(ERA5surf.sel(time=tdate, lon=lonpos, lat=latpos, method='nearest').U10M))\n",
    "            v10m.append(np.array(ERA5surf.sel(time=tdate, lon=lonpos, lat=latpos, method='nearest').V10M))\n",
    "            sp.append(np.array(ERA5surf.sel(time=tdate, lon=lonpos, lat=latpos, method='nearest').SP))\n",
    "            \n",
    "            tcc.append(np.array(ERA5ice.sel(time=tdate, lon=lonpos, lat=latpos, method='nearest').TCC))\n",
    "            skt.append(np.array(ERA5ice.sel(time=tdate, lon=lonpos, lat=latpos, method='nearest').SKT))\n",
    "            istl.append(np.array(ERA5ice.sel(time=tdate, lon=lonpos, lat=latpos, method='nearest').ISTL))\n",
    "            sstk.append(np.array(ERA5ice.sel(time=tdate, lon=lonpos, lat=latpos, method='nearest').SSTK))\n",
    "            ci.append(np.array(ERA5ice.sel(time=tdate, lon=lonpos, lat=latpos, method='nearest').CI))\n",
    "    \n",
    "            # Irregular gridded\n",
    "            \n",
    "            # MODIS\n",
    "            \n",
    "            [ix,jx] = findindex(np.array(MODIS.latitude),np.array(MODIS.longitude),latpos,lonpos)\n",
    "            #print('MODIS - grid:')\n",
    "            #print(latpos,lonpos,np.array(MODIS.latitude[ix,jx]),np.array(MODIS.longitude[ix,jx]))\n",
    "            MODF=np.array(MODIS.sel(time=tdate, method='nearest').aggregated_modis_ist)\n",
    "            ist.append(MODF[ix,jx])\n",
    "            \n",
    "            # TOPAZ\n",
    "            \n",
    "            [ix,jx] = findindex(np.array(TOPAZ.latitude),np.array(TOPAZ.longitude),latpos,lonpos)\n",
    "            #print('TOPAZ- grid:')\n",
    "            #print(latpos,lonpos,np.array(TOPAZ.latitude[ix,jx]),np.array(TOPAZ.longitude[ix,jx]))          \n",
    "            TOPF=np.array(TOPAZ.sel(time=tdate, method='nearest').fice)\n",
    "            fice.append(TOPF[ix,jx])\n",
    "            TOPF=np.array(TOPAZ.sel(time=tdate, method='nearest').hice)\n",
    "            hice.append(TOPF[ix,jx])\n",
    "            TOPF=np.array(TOPAZ.sel(time=tdate, method='nearest').hsnow)\n",
    "            hsnow.append(TOPF[ix,jx])\n",
    "            \n",
    "            # Harmonie AROME\n",
    "            \n",
    "            [ix,jx] = findindex(np.array(TOPAZ.latitude),np.array(TOPAZ.longitude),latpos,lonpos)\n",
    "            AROF=np.array(AROMEf.sel(time=tdate, method='nearest').surface_downwelling_longwave_flux_in_air)\n",
    "            ARstrd.append(AROF[ix,jx])\n",
    "            AROS=np.array(AROMEs.sel(time=tdate, method='nearest').SFX.DSN_T_ICE)\n",
    "            ARhsnow.append(AROS[ix,jx])\n",
    "            AROS=np.array(AROMEs.sel(time=tdate, method='nearest').SFX.TS)\n",
    "            ARist.append(AROS[ix,jx])\n",
    "            \n",
    "        else\n",
    "            ssrd.append(np.nan); strd.append(np.nan); ssru.append(np.nan); stru.append(np.nan)\n",
    "            t2m.append(np.nan); u10m.append(np.nan); v10m.append(np.nan); sp.append(np.nan)            \n",
    "            tcc.append(np.nan); skt.append(np.nan); istl.append(np.nan; sstk.append(np.nan); ci.append(np.nan)\n",
    "            fice.append(np.nan); hice.append(np.nan); hsnow.append(np.nan)\n",
    "            ist.append(np.nan); ARist.append(np.nan); ARstrd.append(np.nan); ARhsnow.append(np.nan)\n",
    "                                                                \n",
    "            \n",
    "    dfout = pd.DataFrame(list(zip(datet,ssrd,strd,ssru,stru,t2m,u10m,v10m,sp,tcc,skt,istl,sstk,ci,hice,fice,hsnow,ist,ARist,ARstrd,ARhsnow)),\n",
    "               columns =['datetime','ssrd','strd','ssru','stru','t2m','u10m','v10m','sp','tcc','skt','istl','sstk','ci','hice','fice','hsnow','ist','ARist','ARstrd','ARhsnow'])\n",
    "\n",
    "    pd.DataFrame(dfout).to_csv(\"mosasfs\"+statnr+\"_ERA5.csv\",index=None) "
   ]
  },
  {
   "cell_type": "code",
   "execution_count": 35,
   "metadata": {},
   "outputs": [],
   "source": [
    "def findindex(alat,alon,plat,plon):\n",
    "    abslat = np.abs(alat-plat)\n",
    "    abslon = np.abs(alon-plon)\n",
    "    c = np.maximum(abslon,abslat)\n",
    "    latlon_idx = np.argmin(c)\n",
    "    x, y = np.where(c == np.min(c))\n",
    "    x=int(x[0])\n",
    "    y=int(y[0])\n",
    "\n",
    "    return (x,y)"
   ]
  },
  {
   "cell_type": "code",
   "execution_count": null,
   "metadata": {},
   "outputs": [],
   "source": [
    "\n",
    "\n",
    "#ist=[];datet=[];\n",
    "#for ii in range(1,2910):\n",
    "#    print ('obs ',wpol.PosLat[ii],wpol.PosLon[ii])\n",
    "#    [ix,jx] = findindex(np.array(MOD.latitude),np.array(MOD.longitude),wpol.PosLat[ii],wpol.PosLon[ii]) # For example for Longyearbyen\n",
    "#    print(ii,ix,jx)\n",
    "#    print(wpol.PosLat[ii],wpol.PosLon[ii],np.array(MOD.latitude[ix,jx]),np.array(MOD.longitude[ix,jx]))\n",
    "#    ist.append(np.array(MOD.sel(time=wpol.datetime[ii], x=ix, y=jx, method='nearest').aggregated_modis_ist))\n",
    "#    datet.append(wpol.datetime[ii])\n",
    "#\n",
    "#dfout = pd.DataFrame(list(zip(datet,ist)),\n",
    "#               columns =['datetime', 'ist'])\n",
    "#pd.DataFrame(dfout).to_csv(\"MODIS.csv\",index=None)\n",
    "\n"
   ]
  }
 ],
 "metadata": {
  "kernelspec": {
   "display_name": "Python 3",
   "language": "python",
   "name": "python3"
  },
  "language_info": {
   "codemirror_mode": {
    "name": "ipython",
    "version": 3
   },
   "file_extension": ".py",
   "mimetype": "text/x-python",
   "name": "python",
   "nbconvert_exporter": "python",
   "pygments_lexer": "ipython3",
   "version": "3.6.9"
  }
 },
 "nbformat": 4,
 "nbformat_minor": 2
}
