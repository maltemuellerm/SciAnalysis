{
 "cells": [
  {
   "cell_type": "code",
   "execution_count": null,
   "metadata": {},
   "outputs": [],
   "source": [
    "# Activate the following in colab : \n",
    "!pip3 install netCDF4\n",
    "!apt install proj-bin libproj-dev libgeos-dev\n",
    "!pip install https://github.com/matplotlib/basemap/archive/master.zip\n",
    "\n",
    "import pandas as pd \n",
    "import math\n",
    "from datetime import datetime,date\n",
    "import datetime\n",
    "import numpy as np\n",
    "import xarray as xr\n",
    "import scipy.stats as st\n",
    "from sklearn.datasets.samples_generator import make_blobs"
   ]
  },
  {
   "cell_type": "code",
   "execution_count": null,
   "metadata": {},
   "outputs": [],
   "source": [
    "#era5 = pd.read_csv(\"https://raw.githubusercontent.com/maltemuellerm/MOSAiC/master/data/ERA5_MOSAiC_2019-2020.csv\")"
   ]
  },
  {
   "cell_type": "code",
   "execution_count": null,
   "metadata": {},
   "outputs": [],
   "source": [
    "era5_sfs30 = pd.read_csv('https://raw.githubusercontent.com/maltemuellerm/MOSAiC/master/data/v02/mosasfs30_ERA5.csv')\n",
    "# Fixing the different time axis representations:\n",
    "for i in range(np.max(np.shape(era5_sfs30))):\n",
    "    era5_sfs30['datetime'][i]= datetime.datetime.strptime(era5_sfs30.datetime[i], '%Y-%m-%d %H:%M:%S')\n",
    "\n",
    "     \n",
    "era5_sfs40 = pd.read_csv('https://raw.githubusercontent.com/maltemuellerm/MOSAiC/master/data/v02/mosasfs40_ERA5.csv')\n",
    "# Fixing the different time axis representations:\n",
    "for i in range(np.max(np.shape(era5_sfs40))):\n",
    "    era5_sfs40['datetime'][i]= datetime.datetime.strptime(era5_sfs40.datetime[i], '%Y-%m-%d %H:%M:%S')    \n",
    "    \n",
    "    \n",
    "era5_sfs50 = pd.read_csv('https://raw.githubusercontent.com/maltemuellerm/MOSAiC/master/data/v02/mosasfs50_ERA5.csv')\n",
    "# Fixing the different time axis representations:\n",
    "for i in range(np.max(np.shape(era5_sfs50))):\n",
    "    era5_sfs50['datetime'][i]= datetime.datetime.strptime(era5_sfs50.datetime[i], '%Y-%m-%d %H:%M:%S')      "
   ]
  },
  {
   "cell_type": "code",
   "execution_count": null,
   "metadata": {},
   "outputs": [],
   "source": [
    "arome_sfs30 = pd.read_csv('https://raw.githubusercontent.com/maltemuellerm/MOSAiC/master/data/v02/mosasfs30_AROME.csv')\n",
    "# Fixing the different time axis representations:\n",
    "for i in range(np.max(np.shape(arome_sfs30))):\n",
    "    arome_sfs30['datetime'][i]= datetime.datetime.strptime(arome_sfs30.datetime[i], '%Y-%m-%d %H:%M:%S')\n",
    "\n",
    "arome_sfs40 = pd.read_csv('https://raw.githubusercontent.com/maltemuellerm/MOSAiC/master/data/v02/mosasfs40_AROME.csv')\n",
    "# Fixing the different time axis representations:\n",
    "for i in range(np.max(np.shape(arome_sfs40))):\n",
    "    arome_sfs40['datetime'][i]= datetime.datetime.strptime(arome_sfs40.datetime[i], '%Y-%m-%d %H:%M:%S')    \n",
    "    \n",
    "arome_sfs50 = pd.read_csv('https://raw.githubusercontent.com/maltemuellerm/MOSAiC/master/data/v02/mosasfs50_AROME.csv')\n",
    "# Fixing the different time axis representations:\n",
    "for i in range(np.max(np.shape(arome_sfs50))):\n",
    "    arome_sfs50['datetime'][i]= datetime.datetime.strptime(arome_sfs50.datetime[i], '%Y-%m-%d %H:%M:%S')    \n",
    "    "
   ]
  },
  {
   "cell_type": "markdown",
   "metadata": {},
   "source": [
    "#### Load observations"
   ]
  },
  {
   "cell_type": "code",
   "execution_count": null,
   "metadata": {},
   "outputs": [],
   "source": [
    "mosasfs30met = xr.open_dataset(\"https://thredds.met.no/thredds/dodsC/metusers/maltem/MOSAiC/mosasfs30met.level2.10min.all.nc\")\n",
    "mosasfs40met = xr.open_dataset(\"https://thredds.met.no/thredds/dodsC/metusers/maltem/MOSAiC/mosasfs40met.level2.10min.all.nc\")\n",
    "mosasfs50met = xr.open_dataset(\"https://thredds.met.no/thredds/dodsC/metusers/maltem/MOSAiC/mosasfs50met.level2.10min.all.nc\")"
   ]
  },
  {
   "cell_type": "code",
   "execution_count": null,
   "metadata": {},
   "outputs": [],
   "source": [
    "#idir='/lustre/storeB/users/maltem/nowwind/MOSAiC/'\n",
    "#mosasfs30met = xr.open_dataset(idir+\"mosasfs30met.level2.10min.all.nc\")\n",
    "#mosasfs40met = xr.open_dataset(idir+\"mosasfs40met.level2.10min.all.nc\")\n",
    "#mosasfs50met = xr.open_dataset(idir+\"mosasfs50met.level2.10min.all.nc\")"
   ]
  },
  {
   "cell_type": "markdown",
   "metadata": {},
   "source": [
    "#### Interpolate to hourly values"
   ]
  },
  {
   "cell_type": "code",
   "execution_count": null,
   "metadata": {},
   "outputs": [],
   "source": [
    "mosasfs30met_1h = mosasfs30met.resample(time=\"1H\").interpolate(\"linear\")\n",
    "mosasfs40met_1h = mosasfs40met.resample(time=\"1H\").interpolate(\"linear\")\n",
    "mosasfs50met_1h = mosasfs50met.resample(time=\"1H\").interpolate(\"linear\")"
   ]
  },
  {
   "cell_type": "markdown",
   "metadata": {},
   "source": [
    "### MOSAiC"
   ]
  },
  {
   "cell_type": "code",
   "execution_count": null,
   "metadata": {},
   "outputs": [],
   "source": [
    "#Grid two variables on a 2D meshgrid \n",
    "import matplotlib.pyplot as plt\n",
    "# Extract x and y\n",
    "x = np.array(mosasfs40met_1h['down_long_hemisp']-mosasfs40met_1h['up_long_hemisp'])\n",
    "y = np.array(mosasfs40met_1h['skin_temp_surface'])\n",
    "y = np.array(mosasfs40met_1h['atmos_pressure'])\n",
    "#y = np.array(mosasfs40met_1h['wspd_vec_mean'])\n",
    "# Remove all the nans consistently \n",
    "y = y[~np.isnan(x)]\n",
    "x = x[~np.isnan(x)]\n",
    "x = x[~np.isnan(y)]\n",
    "y = y[~np.isnan(y)]\n",
    "# Define the borders\n",
    "deltaX = (max(x) - min(x))/10\n",
    "deltaY = (max(y) - min(y))/10\n",
    "xmin = min(x) - deltaX\n",
    "xmax = max(x) + deltaX\n",
    "ymin = min(y) - deltaY\n",
    "ymax = max(y) + deltaY\n",
    "print(xmin, xmax, ymin, ymax)\n",
    "# Create meshgrid\n",
    "xx, yy = np.mgrid[xmin:xmax:100j, ymin:ymax:100j]\n",
    "\n",
    "# Fit a kernel\n",
    "positions = np.vstack([xx.ravel(), yy.ravel()])\n",
    "values = np.vstack([x, y])\n",
    "kernel = st.gaussian_kde(values)\n",
    "f = np.reshape(kernel(positions).T, xx.shape)\n",
    "\n",
    "# Plot\n",
    "\n",
    "fig = plt.figure(figsize=(8,8))\n",
    "ax = fig.gca()\n",
    "ax.set_xlim(xmin, xmax)\n",
    "ax.set_ylim(ymin, ymax)\n",
    "cfset = ax.contourf(xx, yy, f, cmap='coolwarm')\n",
    "ax.imshow(np.rot90(f), cmap='coolwarm', extent=[xmin, xmax, ymin, ymax])\n",
    "cset = ax.contour(xx, yy, f, colors='k')\n",
    "ax.clabel(cset, inline=1, fontsize=10)\n",
    "ax.set_xlabel('X')\n",
    "ax.set_ylabel('Y')\n",
    "plt.title('2D Gaussian Kernel density estimation')"
   ]
  },
  {
   "cell_type": "markdown",
   "metadata": {},
   "source": [
    "### ERA-5"
   ]
  },
  {
   "cell_type": "code",
   "execution_count": null,
   "metadata": {},
   "outputs": [],
   "source": [
    "#Grid two variables on a 2D meshgrid \n",
    "\n",
    "# Extract x and y\n",
    "x = np.array(era5_sfs40['stru']/3600)\n",
    "#y = np.array(era5_sfs40['skin_temp_surface'])\n",
    "y = np.array(era5_sfs40['sp']/100)\n",
    "#y = np.array(np.sqrt(era5_sfs40['u10m']**2+era5_sfs40['v10m']**2))\n",
    "# Remove all the nans consistently \n",
    "y = y[~np.isnan(x)]\n",
    "x = x[~np.isnan(x)]\n",
    "x = x[~np.isnan(y)]\n",
    "y = y[~np.isnan(y)]\n",
    "# Define the borders\n",
    "deltaX = (max(x) - min(x))/10\n",
    "deltaY = (max(y) - min(y))/10\n",
    "xmin = min(x) - deltaX\n",
    "xmax = max(x) + deltaX\n",
    "ymin = min(y) - deltaY\n",
    "ymax = max(y) + deltaY\n",
    "print(xmin, xmax, ymin, ymax)\n",
    "# Create meshgrid\n",
    "xx, yy = np.mgrid[xmin:xmax:100j, ymin:ymax:100j]\n",
    "\n",
    "# Fit a kernel\n",
    "positions = np.vstack([xx.ravel(), yy.ravel()])\n",
    "values = np.vstack([x, y])\n",
    "kernel = st.gaussian_kde(values)arome\n",
    "f = np.reshape(kernel(positions).T, xx.shape)\n",
    "\n",
    "# Plot\n",
    "\n",
    "fig = plt.figure(figsize=(8,8))\n",
    "ax = fig.gca()\n",
    "ax.set_xlim(xmin, xmax)\n",
    "ax.set_ylim(ymin, ymax)\n",
    "cfset = ax.contourf(xx, yy, f, cmap='coolwarm')\n",
    "ax.imshow(np.rot90(f), cmap='coolwarm', extent=[xmin, xmax, ymin, ymax])\n",
    "cset = ax.contour(xx, yy, f, colors='k')\n",
    "ax.clabel(cset, inline=1, fontsize=10)\n",
    "ax.set_xlabel('X')\n",
    "ax.set_ylabel('Y')\n",
    "plt.title('2D Gaussian Kernel density estimation')"
   ]
  },
  {
   "cell_type": "markdown",
   "metadata": {},
   "source": [
    "### AROME Daten"
   ]
  },
  {
   "cell_type": "code",
   "execution_count": null,
   "metadata": {},
   "outputs": [],
   "source": [
    "\n",
    "#Grid two variables on a 2D meshgrid \n",
    "\n",
    "# Extract x and y\n",
    "x = np.array((arome_sfs40['strn'])/3600)\n",
    "#y = np.array(era5_sfs40['skin_temp_surface'])\n",
    "y = np.array(arome_sfs40['sp']/100)\n",
    "#y = np.array(np.sqrt(era5_sfs40['u10m']**2+era5_sfs40['v10m']**2))\n",
    "# Remove all the nans consistently \n",
    "y = y[~np.isnan(x)]\n",
    "x = x[~np.isnan(x)]\n",
    "x = x[~np.isnan(y)]\n",
    "y = y[~np.isnan(y)]\n",
    "# Define the borders\n",
    "deltaX = (max(x) - min(x))/10\n",
    "deltaY = (max(y) - min(y))/10\n",
    "xmin = min(x) - deltaX\n",
    "xmax = max(x) + deltaX\n",
    "ymin = min(y) - deltaY\n",
    "ymax = max(y) + deltaY\n",
    "print(xmin, xmax, ymin, ymax)\n",
    "# Create meshgrid\n",
    "xx, yy = np.mgrid[xmin:xmax:100j, ymin:ymax:100j]\n",
    "\n",
    "# Fit a kernel\n",
    "positions = np.vstack([xx.ravel(), yy.ravel()])\n",
    "values = np.vstack([x, y])\n",
    "kernel = st.gaussian_kde(values)\n",
    "f = np.reshape(kernel(positions).T, xx.shape)\n",
    "\n",
    "# Plot\n",
    "\n",
    "fig = plt.figure(figsize=(8,8))\n",
    "ax = fig.gca()\n",
    "ax.set_xlim(xmin, xmax)\n",
    "ax.set_xlim(-80, 20)\n",
    "\n",
    "ax.set_ylim(ymin, ymax)\n",
    "cfset = ax.contourf(xx, yy, f, cmap='coolwarm')\n",
    "ax.imshow(np.rot90(f), cmap='coolwarm', extent=[xmin, xmax, ymin, ymax])\n",
    "cset = ax.contour(xx, yy, f, colors='k')\n",
    "ax.clabel(cset, inline=1, fontsize=10)\n",
    "ax.set_xlabel('X')\n",
    "ax.set_ylabel('Y')\n",
    "plt.title('2D Gaussian Kernel density estimation')"
   ]
  }
 ],
 "metadata": {
  "kernelspec": {
   "display_name": "Python 3",
   "language": "python",
   "name": "python3"
  },
  "language_info": {
   "codemirror_mode": {
    "name": "ipython",
    "version": 3
   },
   "file_extension": ".py",
   "mimetype": "text/x-python",
   "name": "python",
   "nbconvert_exporter": "python",
   "pygments_lexer": "ipython3",
   "version": "3.6.9"
  }
 },
 "nbformat": 4,
 "nbformat_minor": 2
}
