{
 "cells": [
  {
   "cell_type": "code",
   "execution_count": null,
   "metadata": {},
   "outputs": [],
   "source": [
    "# Load the Pandas libraries with alias 'pd' \n",
    "import pandas as pd \n",
    "import math\n",
    "from datetime import datetime,date\n",
    "import datetime\n",
    "import numpy as np\n"
   ]
  },
  {
   "cell_type": "code",
   "execution_count": null,
   "metadata": {},
   "outputs": [],
   "source": [
    "era5 = pd.read_csv(\"https://raw.githubusercontent.com/maltemuellerm/MOSAiC/master/data/ERA5_MOSAiC_2019-2020.csv\")\n",
    "wpol = pd.read_csv(\"https://raw.githubusercontent.com/maltemuellerm/MOSAiC/master/data/PolarsternWetterStation_MOSAiC_2019-2020.csv\")\n",
    "modis= pd.read_csv(\"https://raw.githubusercontent.com/maltemuellerm/MOSAiC/master/data/MODIS_MOSAiC_2019.csv\")\n",
    "topaz= pd.read_csv(\"https://raw.githubusercontent.com/maltemuellerm/MOSAiC/master/data/TOPAZ_MOSAiC_2019-2020.csv\")\n",
    "                 "
   ]
  },
  {
   "cell_type": "markdown",
   "metadata": {},
   "source": [
    "## Metadata - for ERA5 data\n",
    "\n",
    "t2m - 2metre temperature [K] \n",
    "\n",
    "u10m - 10metre u wind component [m/s]\n",
    "\n",
    "v10m - 10metre v wind component [m/s]\n",
    "\n",
    "sp - surface pressure [Pa]\n",
    "\n",
    "ssrd - surface shortwave radiation downward  [Ws/(m**2)]\n",
    "\n",
    "strd - surface longwave radiation downward  [Ws/(m**2)]\n",
    " \n",
    "ssru - surface shortwave radiation upward  [Ws/(m**2)]\n",
    "\n",
    "stru - surface longwave radiation upward  [Ws/(m**2)]\n",
    "\n",
    "ci - sea-ice concentration\n",
    "\n",
    "sstk - sea surface temperature [K]\n",
    "\n",
    "istl1 - surface temperature of upper sea-ice layer\n",
    "\n",
    "tcc - total cloud cover\n",
    "\n",
    "skt - skin temperature\n"
   ]
  },
  {
   "cell_type": "code",
   "execution_count": null,
   "metadata": {},
   "outputs": [],
   "source": [
    "from matplotlib import pyplot as plt\n",
    "import matplotlib.ticker as ticker\n",
    "\n",
    "tstart=1250; tend=2720\n",
    "tickdistance = 24*10\n",
    "\n",
    "fig = plt.figure(figsize=(14,14))\n",
    "\n",
    "ax1 = plt.subplot(512)\n",
    "\n",
    "ax1.plot(era5.datetime[range(tstart,tend)], era5.t2m[range(tstart,tend)]-273.15, '-')\n",
    "ax1.plot(wpol.datetime[range(tstart,tend)], wpol.air_temperature[range(tstart,tend)])\n",
    "ax1.xaxis.set_major_locator(ticker.MultipleLocator(tickdistance))\n",
    "ax1.legend(['t2m era5','t2m obs'])\n",
    "\n",
    "ax2 = plt.subplot(511)\n",
    "\n",
    "ax2.plot(era5.datetime[range(tstart,tend)], era5.sp[range(tstart,tend)]/100, '-')\n",
    "ax2.plot(wpol.datetime[range(tstart,tend)], wpol.air_pressure[range(tstart,tend)])\n",
    "ax2.xaxis.set_major_locator(ticker.MultipleLocator(tickdistance))\n",
    "ax2.legend(['surface pressure era5','surface pressure obs'])\n",
    "\n",
    "ax3 = plt.subplot(515)\n",
    "ax3.plot(era5.datetime[range(tstart,tend)], era5.tcc[range(tstart,tend)], '-')\n",
    "#ax3.plot(wpol.datetime[range(tstart,tend)], wpol.air_pressure[range(tstart,tend)])\n",
    "ax3.xaxis.set_major_locator(ticker.MultipleLocator(tickdistance))\n",
    "ax3.legend(['total cloud cover'])\n",
    "\n",
    "ax4 = plt.subplot(513)\n",
    "ax4.plot(era5.datetime[range(tstart,tend)], era5.strd[range(tstart,tend)]/(3600), '-')\n",
    "#ax3.plot(wpol.datetime[range(tstart,tend)], wpol.air_pressure[range(tstart,tend)])\n",
    "ax4.xaxis.set_major_locator(ticker.MultipleLocator(tickdistance))\n",
    "ax4.legend(['downwelling longwave radiation'])\n",
    "\n",
    "ax5 = plt.subplot(514)\n",
    "ax5.plot(era5.datetime[range(tstart,tend)], era5.skt[range(tstart,tend)]-273.15, '-')\n",
    "ax5.plot(modis.datetime[range(tstart,tend)], modis.ist[range(tstart,tend)]-273.15)\n",
    "ax5.xaxis.set_major_locator(ticker.MultipleLocator(tickdistance))\n",
    "ax5.legend(['skt era5','ist modis'])\n"
   ]
  },
  {
   "cell_type": "code",
   "execution_count": null,
   "metadata": {},
   "outputs": [],
   "source": [
    "from matplotlib import pyplot as plt\n",
    "import matplotlib.ticker as ticker\n",
    "\n",
    "tstart=1250; tend=6020\n",
    "tickdistance = 24*60\n",
    "\n",
    "fig = plt.figure(figsize=(14,14))\n",
    "\n",
    "ax1 = plt.subplot(511)\n",
    "\n",
    "ax1.plot(topaz.datetime[range(tstart,tend)], topaz.fice[range(tstart,tend)], '-')\n",
    "ax1.plot(era5.datetime[range(tstart,tend)], era5.ci[range(tstart,tend)])\n",
    "ax1.xaxis.set_major_locator(ticker.MultipleLocator(tickdistance))\n",
    "ax1.legend(['topaz iceconcentration','era5 iceconcentration'])\n",
    "\n",
    "ax2 = plt.subplot(512)\n",
    "\n",
    "ax2.plot(topaz.datetime[range(tstart,tend)], topaz.hice[range(tstart,tend)], '-')\n",
    "\n",
    "ax2.xaxis.set_major_locator(ticker.MultipleLocator(tickdistance))\n",
    "ax2.legend(['topaz icethickness'])\n",
    "\n",
    "ax3 = plt.subplot(513)\n",
    "\n",
    "ax3.plot(topaz.datetime[range(tstart,tend)], topaz.hsnow[range(tstart,tend)], '-')\n",
    "\n",
    "ax3.xaxis.set_major_locator(ticker.MultipleLocator(tickdistance))\n",
    "ax3.legend(['topaz snow thickness'])\n"
   ]
  },
  {
   "cell_type": "code",
   "execution_count": null,
   "metadata": {},
   "outputs": [],
   "source": []
  }
 ],
 "metadata": {
  "kernelspec": {
   "display_name": "Python 3",
   "language": "python",
   "name": "python3"
  },
  "language_info": {
   "codemirror_mode": {
    "name": "ipython",
    "version": 3
   },
   "file_extension": ".py",
   "mimetype": "text/x-python",
   "name": "python",
   "nbconvert_exporter": "python",
   "pygments_lexer": "ipython3",
   "version": "3.6.9"
  }
 },
 "nbformat": 4,
 "nbformat_minor": 2
}
