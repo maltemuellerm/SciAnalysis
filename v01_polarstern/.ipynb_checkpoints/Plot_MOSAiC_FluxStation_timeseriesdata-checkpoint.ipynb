{
 "cells": [
  {
   "cell_type": "code",
   "execution_count": null,
   "metadata": {},
   "outputs": [],
   "source": [
    "# Activate the following in colab : \n",
    "!pip3 install netCDF4\n",
    "!apt install proj-bin libproj-dev libgeos-dev\n",
    "!pip install https://github.com/matplotlib/basemap/archive/master.zip\n",
    "\n",
    "import pandas as pd \n",
    "import math\n",
    "from datetime import datetime,date\n",
    "import datetime\n",
    "import numpy as np\n",
    "import xarray as xr"
   ]
  },
  {
   "cell_type": "code",
   "execution_count": null,
   "metadata": {},
   "outputs": [],
   "source": [
    "era5 = pd.read_csv(\"https://raw.githubusercontent.com/maltemuellerm/MOSAiC/master/data/ERA5_MOSAiC_2019-2020.csv\")\n",
    "wpol = pd.read_csv(\"https://raw.githubusercontent.com/maltemuellerm/MOSAiC/master/data/PolarsternWetterStation_MOSAiC_2019-2020.csv\")\n",
    "modis= pd.read_csv(\"https://raw.githubusercontent.com/maltemuellerm/MOSAiC/master/data/MODIS_MOSAiC_2019.csv\")\n",
    "topaz= pd.read_csv(\"https://raw.githubusercontent.com/maltemuellerm/MOSAiC/master/data/TOPAZ_MOSAiC_2019-2020.csv\")                 "
   ]
  },
  {
   "cell_type": "code",
   "execution_count": null,
   "metadata": {},
   "outputs": [],
   "source": [
    "mosasfs30met = xr.open_dataset(\"https://thredds.met.no/thredds/dodsC/metusers/maltem/MOSAiC/mosasfs30met.level2.10min.all.nc\")"
   ]
  },
  {
   "cell_type": "code",
   "execution_count": null,
   "metadata": {},
   "outputs": [],
   "source": [
    "# Fixing the different time axis representations:\n",
    "wpoltime = []\n",
    "for i in range(np.max(np.shape(era5))):\n",
    "    wpoltime.append(datetime.datetime.strptime(era5.datetime[i], '%Y/%m/%d %H:%M:%S'))\n",
    "modistime = []\n",
    "for i in range(np.max(np.shape(modis))):\n",
    "    modistime.append(datetime.datetime.strptime(modis.datetime[i], '%Y/%m/%d %H:%M:%S')) "
   ]
  },
  {
   "cell_type": "code",
   "execution_count": null,
   "metadata": {},
   "outputs": [],
   "source": [
    "mosasfs30met"
   ]
  },
  {
   "cell_type": "code",
   "execution_count": null,
   "metadata": {},
   "outputs": [],
   "source": [
    "from matplotlib import pyplot as plt\n",
    "import matplotlib.ticker as ticker\n",
    "\n",
    "tstart=pd.Timestamp('2019-12-1')\n",
    "tend=pd.Timestamp('2019-12-31')\n",
    "\n",
    "fig = plt.figure(figsize=(14,14))\n",
    "\n",
    "ax1 = plt.subplot(511)\n",
    "ax1.plot(mosasfs30met.time, mosasfs30met.down_long_hemisp, '-')\n",
    "ax1.plot(wpoltime,era5.strd/3600,'-')\n",
    "ax1.set_xlim(tstart,tend)\n",
    "ax1.set_ylim(120,270)\n",
    "plt.title('Downwelling long-wave radiation')\n",
    "\n",
    "ax1 = plt.subplot(512)\n",
    "ax1.plot(mosasfs30met.time, mosasfs30met.up_long_hemisp, '-')\n",
    "ax1.plot(wpoltime,(-era5.stru+era5.strd)/3600,'-')\n",
    "ax1.set_xlim(tstart,tend)\n",
    "ax1.set_ylim(170,270)\n",
    "ax1.legend(['rad obs','rad era5'])\n",
    "plt.title('Upwelling long-wave radiation')\n",
    "\n",
    "ax1 = plt.subplot(513)\n",
    "ax1.plot(mosasfs30met.time, mosasfs30met.skin_temp_surface, '-')\n",
    "ax1.plot(wpoltime,era5.skt-273.15,'-')\n",
    "ax1.plot(modistime,modis.ist-273.15)\n",
    "ax1.set_xlim(tstart,tend)\n",
    "ax1.set_ylim(-40,-10)\n",
    "ax1.legend(['skt obs','skt era5'])\n",
    "plt.title('Skin temperature')\n",
    "\n",
    "ax1 = plt.subplot(514)\n",
    "ax1.plot(mosasfs30met.time, mosasfs30met.temp, '-')\n",
    "ax1.plot(wpoltime,era5.t2m-273.15,'-')\n",
    "ax1.set_xlim(tstart,tend)\n",
    "ax1.set_ylim(-40,-10)\n",
    "ax1.legend(['skt obs','skt era5'])\n",
    "plt.title('Air temperature')\n"
   ]
  },
  {
   "cell_type": "code",
   "execution_count": null,
   "metadata": {},
   "outputs": [],
   "source": [
    "tstart=pd.Timestamp('2019-12-1')\n",
    "tend=pd.Timestamp('2019-12-31')\n",
    "\n",
    "fig = plt.figure(figsize=(14,14))\n",
    "\n",
    "ax1 = plt.subplot(511)\n",
    "ax1.plot(mosasfs30met.time, mosasfs30met.snow_depth/100, '-')\n",
    "ax1.plot(wpoltime,topaz.hsnow,'-')\n",
    "ax1.set_xlim(tstart,tend)\n",
    "ax1.set_ylim(0.1,0.6)\n",
    "plt.title('Snow Depth')\n"
   ]
  },
  {
   "cell_type": "code",
   "execution_count": null,
   "metadata": {},
   "outputs": [],
   "source": []
  }
 ],
 "metadata": {
  "kernelspec": {
   "display_name": "Python 3",
   "language": "python",
   "name": "python3"
  },
  "language_info": {
   "codemirror_mode": {
    "name": "ipython",
    "version": 3
   },
   "file_extension": ".py",
   "mimetype": "text/x-python",
   "name": "python",
   "nbconvert_exporter": "python",
   "pygments_lexer": "ipython3",
   "version": "3.6.9"
  }
 },
 "nbformat": 4,
 "nbformat_minor": 2
}
