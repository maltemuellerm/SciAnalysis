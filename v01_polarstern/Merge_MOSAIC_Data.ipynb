{
 "cells": [
  {
   "cell_type": "code",
   "execution_count": 1,
   "metadata": {},
   "outputs": [
    {
     "name": "stderr",
     "output_type": "stream",
     "text": [
      "/home/maltem/.local/lib/python3.6/site-packages/pandas/compat/_optional.py:124: UserWarning: Pandas requires version '1.2.1' or newer of 'bottleneck' (version '1.2.0' currently installed).\n",
      "  warnings.warn(msg, UserWarning)\n"
     ]
    }
   ],
   "source": [
    "import pandas as pd \n",
    "import xarray as xr\n",
    "import math\n",
    "import numpy.ma as ma\n",
    "import numpy as np"
   ]
  },
  {
   "cell_type": "code",
   "execution_count": 5,
   "metadata": {},
   "outputs": [],
   "source": [
    "wpol  = pd.read_csv(\"data/PolarsternWetterStation_MOSAiC_2019-2020.csv\",sep='\\t')\n",
    "\n",
    "era   = pd.read_csv(\"data/tmp/ERA5_diag_2019-2020.csv\")\n",
    "era1  = pd.read_csv(\"data/tmp/ERA5_flux_2019_2020.csv\")\n",
    "era2  = pd.read_csv(\"data/tmp/ERA5_icediag_2019-2020.csv\")\n",
    "\n",
    "wpol  = wpol.set_index('datetime')\n",
    "wpol  = wpol.drop(index='2019/09/01 18:48:38')\n",
    "wpol  = wpol.drop(index='2020/10/01 19:48:38')\n",
    "era   = era.set_index('datetime')\n",
    "era   = era.drop(index='2019/09/01 18:48:38')\n",
    "era1  = era1.set_index('datetime')\n",
    "era2  = era2.set_index('datetime')\n",
    "\n"
   ]
  },
  {
   "cell_type": "code",
   "execution_count": 6,
   "metadata": {},
   "outputs": [],
   "source": [
    "era5_all=pd.concat([era,era1,era2], axis=1)"
   ]
  },
  {
   "cell_type": "code",
   "execution_count": 8,
   "metadata": {},
   "outputs": [],
   "source": [
    "pd.DataFrame(era5_all).to_csv(\"data/ERA5_MOSAiC_2019-2020.csv\")\n",
    "pd.DataFrame(wpol).to_csv(\"data/PolarsternWetterStation_MOSAiC_2019-2020.csv\")"
   ]
  }
 ],
 "metadata": {
  "kernelspec": {
   "display_name": "Python 3",
   "language": "python",
   "name": "python3"
  },
  "language_info": {
   "codemirror_mode": {
    "name": "ipython",
    "version": 3
   },
   "file_extension": ".py",
   "mimetype": "text/x-python",
   "name": "python",
   "nbconvert_exporter": "python",
   "pygments_lexer": "ipython3",
   "version": "3.6.9"
  }
 },
 "nbformat": 4,
 "nbformat_minor": 2
}
