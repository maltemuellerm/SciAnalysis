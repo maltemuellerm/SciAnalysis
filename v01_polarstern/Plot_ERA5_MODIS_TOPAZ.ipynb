{
 "cells": [
  {
   "cell_type": "code",
   "execution_count": null,
   "metadata": {},
   "outputs": [],
   "source": [
    "# Activate the following in colab : \n",
    "!pip3 install netCDF4\n",
    "!apt install proj-bin libproj-dev libgeos-dev\n",
    "!pip install https://github.com/matplotlib/basemap/archive/master.zip\n",
    "    \n",
    "import xarray as xr\n",
    "import math\n",
    "import numpy as np\n",
    "from mpl_toolkits.basemap import Basemap\n",
    "import matplotlib.gridspec as gridspec\n",
    "from matplotlib import pyplot as plt\n",
    "from datetime import datetime,date"
   ]
  },
  {
   "cell_type": "code",
   "execution_count": null,
   "metadata": {},
   "outputs": [],
   "source": [
    "url='https://thredds.met.no/thredds/dodsC/metusers/maltem/MOSAiC/MODIS.surfacetemp.2019.nc'\n",
    "modis = xr.open_dataset(url)\n",
    "\n",
    "url='https://thredds.met.no/thredds/dodsC/metusers/maltem/MOSAiC/Arctic.ERA5.icesurface.2019.nc'\n",
    "era5 = xr.open_dataset(url)\n"
   ]
  },
  {
   "cell_type": "code",
   "execution_count": null,
   "metadata": {},
   "outputs": [],
   "source": [
    "# Define the date\n",
    "casedate = datetime(2019, 11, 20, 10)"
   ]
  },
  {
   "cell_type": "code",
   "execution_count": null,
   "metadata": {},
   "outputs": [],
   "source": [
    "\n",
    "levelsPP = range(230,270,1)\n",
    "\n",
    "fig = plt.figure(figsize=(10.2,15.2)) \n",
    "gs = gridspec.GridSpec(1, 3)\n",
    "plt.subplots_adjust(left=0.05, right=0.95, top=0.90, bottom=0.05, wspace=0.15, hspace=0.05)\n",
    "\n",
    "m = Basemap(projection='stere',boundinglat=75, lon_0=20, lat_0=62.4, \n",
    "            resolution='l', llcrnrlat= 75.0, urcrnrlat=85.0, llcrnrlon=5.0, urcrnrlon=70.0)\n",
    "\n",
    "# PLOT (1) MODIS (note this is a irregular grid)\n",
    "ax = plt.subplot(gs[0],aspect='equal')\n",
    "m.drawcoastlines(color='#4D5D53'); m.fillcontinents(alpha=0.2)\n",
    "parallels = np.arange(0.,90,10); m.drawparallels(parallels,labels=[1,1,1,0],fontsize=10)\n",
    "meridians = np.arange(0.,360.,10); m.drawmeridians(meridians,labels=[0,0,0,1],latmax=80,fontsize=10)\n",
    "x, y = m(np.array(modis.longitude),np.array(modis.latitude))               # compute map proj coordinates.\n",
    "cs=m.contourf(x,y,np.array(modis.sel(time=casedate, method='nearest').aggregated_modis_ist),\n",
    "              cmap=plt.cm.coolwarm,extemd='max',levels=levelsPP)\n",
    "\n",
    "plt.title ('MODIS '+str(casedate))\n",
    "cbar = m.colorbar(cs,location='bottom',pad=\"5%\")  \n",
    "cbar.set_label('sea-ice surface temperature')   \n",
    "\n",
    "\n",
    "# PLOT (2) ERA5 (note this is a regular grid)\n",
    "ax = plt.subplot(gs[1],aspect='equal')\n",
    "m.drawcoastlines(color='#4D5D53'); m.fillcontinents(alpha=0.2)\n",
    "parallels = np.arange(0.,90,10); m.drawparallels(parallels,labels=[1,1,1,0],fontsize=10)\n",
    "meridians = np.arange(0.,360.,10); m.drawmeridians(meridians,labels=[0,0,0,1],latmax=80,fontsize=10)\n",
    "x, y = m(*np.meshgrid(era5.lon,era5.lat))\n",
    "cs=m.contourf(x,y,np.squeeze(np.array(era5.sel(time=casedate, method='nearest').ISTL1)),\n",
    "              cmap=plt.cm.coolwarm,extemd='max',levels=levelsPP)\n",
    "plt.title ('ERA-5 '+str(casedate))\n",
    "cbar = m.colorbar(cs,location='bottom',pad=\"5%\")  \n",
    "cbar.set_label('ice temperature')    \n",
    "\n",
    "# PLOT (3) ERA5 (note this is a regular grid)\n",
    "ax = plt.subplot(gs[2],aspect='equal')\n",
    "m.drawcoastlines(color='#4D5D53'); m.fillcontinents(alpha=0.2)\n",
    "parallels = np.arange(0.,90,10); m.drawparallels(parallels,labels=[1,1,1,0],fontsize=10)\n",
    "meridians = np.arange(0.,360.,10); m.drawmeridians(meridians,labels=[0,0,0,1],latmax=80,fontsize=10)\n",
    "x, y = m(*np.meshgrid(era5.lon,era5.lat))\n",
    "cs=m.contourf(x,y,np.squeeze(np.array(era5.sel(time=casedate, method='nearest').SKT)),\n",
    "              cmap=plt.cm.coolwarm,extemd='max',levels=levelsPP)\n",
    "plt.title ('ERA-5 '+str(casedate))\n",
    "cbar = m.colorbar(cs,location='bottom',pad=\"5%\")  \n",
    "cbar.set_label('skin temperature')    \n",
    "\n"
   ]
  },
  {
   "cell_type": "code",
   "execution_count": null,
   "metadata": {},
   "outputs": [],
   "source": []
  },
  {
   "cell_type": "code",
   "execution_count": null,
   "metadata": {},
   "outputs": [],
   "source": []
  },
  {
   "cell_type": "code",
   "execution_count": null,
   "metadata": {},
   "outputs": [],
   "source": []
  },
  {
   "cell_type": "code",
   "execution_count": null,
   "metadata": {},
   "outputs": [],
   "source": []
  }
 ],
 "metadata": {
  "kernelspec": {
   "display_name": "Python 3",
   "language": "python",
   "name": "python3"
  },
  "language_info": {
   "codemirror_mode": {
    "name": "ipython",
    "version": 3
   },
   "file_extension": ".py",
   "mimetype": "text/x-python",
   "name": "python",
   "nbconvert_exporter": "python",
   "pygments_lexer": "ipython3",
   "version": "3.6.9"
  }
 },
 "nbformat": 4,
 "nbformat_minor": 2
}
