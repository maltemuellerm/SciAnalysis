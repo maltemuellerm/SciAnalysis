{
 "cells": [
  {
   "cell_type": "code",
   "execution_count": 1,
   "metadata": {},
   "outputs": [
    {
     "name": "stderr",
     "output_type": "stream",
     "text": [
      "/home/maltem/.local/lib/python3.6/site-packages/pandas/compat/_optional.py:124: UserWarning: Pandas requires version '1.2.1' or newer of 'bottleneck' (version '1.2.0' currently installed).\n",
      "  warnings.warn(msg, UserWarning)\n",
      "/home/maltem/.local/lib/python3.6/site-packages/sklearn/utils/deprecation.py:143: FutureWarning: The sklearn.datasets.samples_generator module is  deprecated in version 0.22 and will be removed in version 0.24. The corresponding classes / functions should instead be imported from sklearn.datasets. Anything that cannot be imported from sklearn.datasets is now part of the private API.\n",
      "  warnings.warn(message, FutureWarning)\n"
     ]
    }
   ],
   "source": [
    "import pandas as pd \n",
    "import math\n",
    "from datetime import datetime,date\n",
    "import datetime\n",
    "import numpy as np\n",
    "import xarray as xr\n",
    "import scipy.stats as st\n",
    "from sklearn.datasets.samples_generator import make_blobs"
   ]
  },
  {
   "cell_type": "code",
   "execution_count": 2,
   "metadata": {},
   "outputs": [],
   "source": [
    "#era5 = pd.read_csv(\"https://raw.githubusercontent.com/maltemuellerm/MOSAiC/master/data/ERA5_MOSAiC_2019-2020.csv\")"
   ]
  },
  {
   "cell_type": "code",
   "execution_count": null,
   "metadata": {},
   "outputs": [
    {
     "name": "stderr",
     "output_type": "stream",
     "text": [
      "/usr/lib/python3/dist-packages/ipykernel_launcher.py:4: SettingWithCopyWarning: \n",
      "A value is trying to be set on a copy of a slice from a DataFrame\n",
      "\n",
      "See the caveats in the documentation: https://pandas.pydata.org/pandas-docs/stable/user_guide/indexing.html#returning-a-view-versus-a-copy\n",
      "  after removing the cwd from sys.path.\n",
      "/usr/lib/python3/dist-packages/ipykernel_launcher.py:10: SettingWithCopyWarning: \n",
      "A value is trying to be set on a copy of a slice from a DataFrame\n",
      "\n",
      "See the caveats in the documentation: https://pandas.pydata.org/pandas-docs/stable/user_guide/indexing.html#returning-a-view-versus-a-copy\n",
      "  # Remove the CWD from sys.path while we load stuff.\n",
      "/usr/lib/python3/dist-packages/ipykernel_launcher.py:16: SettingWithCopyWarning: \n",
      "A value is trying to be set on a copy of a slice from a DataFrame\n",
      "\n",
      "See the caveats in the documentation: https://pandas.pydata.org/pandas-docs/stable/user_guide/indexing.html#returning-a-view-versus-a-copy\n",
      "  app.launch_new_instance()\n",
      "/usr/lib/python3/dist-packages/ipykernel_launcher.py:21: SettingWithCopyWarning: \n",
      "A value is trying to be set on a copy of a slice from a DataFrame\n",
      "\n",
      "See the caveats in the documentation: https://pandas.pydata.org/pandas-docs/stable/user_guide/indexing.html#returning-a-view-versus-a-copy\n",
      "/usr/lib/python3/dist-packages/ipykernel_launcher.py:26: SettingWithCopyWarning: \n",
      "A value is trying to be set on a copy of a slice from a DataFrame\n",
      "\n",
      "See the caveats in the documentation: https://pandas.pydata.org/pandas-docs/stable/user_guide/indexing.html#returning-a-view-versus-a-copy\n",
      "/usr/lib/python3/dist-packages/ipykernel_launcher.py:31: SettingWithCopyWarning: \n",
      "A value is trying to be set on a copy of a slice from a DataFrame\n",
      "\n",
      "See the caveats in the documentation: https://pandas.pydata.org/pandas-docs/stable/user_guide/indexing.html#returning-a-view-versus-a-copy\n",
      "/usr/lib/python3/dist-packages/ipykernel_launcher.py:36: SettingWithCopyWarning: \n",
      "A value is trying to be set on a copy of a slice from a DataFrame\n",
      "\n",
      "See the caveats in the documentation: https://pandas.pydata.org/pandas-docs/stable/user_guide/indexing.html#returning-a-view-versus-a-copy\n",
      "/usr/lib/python3/dist-packages/ipykernel_launcher.py:41: SettingWithCopyWarning: \n",
      "A value is trying to be set on a copy of a slice from a DataFrame\n",
      "\n",
      "See the caveats in the documentation: https://pandas.pydata.org/pandas-docs/stable/user_guide/indexing.html#returning-a-view-versus-a-copy\n",
      "/usr/lib/python3/dist-packages/ipykernel_launcher.py:46: SettingWithCopyWarning: \n",
      "A value is trying to be set on a copy of a slice from a DataFrame\n",
      "\n",
      "See the caveats in the documentation: https://pandas.pydata.org/pandas-docs/stable/user_guide/indexing.html#returning-a-view-versus-a-copy\n"
     ]
    }
   ],
   "source": [
    "era5_sfs30 = pd.read_csv('../data/v03/mosasfs_level2v3_30_ERA5.csv')\n",
    "# Fixing the different time axis representations:\n",
    "for i in range(np.max(np.shape(era5_sfs30))):\n",
    "    era5_sfs30['datetime'][i]= datetime.datetime.strptime(era5_sfs30.datetime[i], '%Y-%m-%d %H:%M:%S')\n",
    "\n",
    "     \n",
    "era5_sfs40 = pd.read_csv('../data/v03/mosasfs_level2v3_40_ERA5.csv')\n",
    "# Fixing the different time axis representations:\n",
    "for i in range(np.max(np.shape(era5_sfs40))):\n",
    "    era5_sfs40['datetime'][i]= datetime.datetime.strptime(era5_sfs40.datetime[i], '%Y-%m-%d %H:%M:%S')    \n",
    "    \n",
    "    \n",
    "era5_sfs50 = pd.read_csv('../data/v03/mosasfs_level2v3_50_ERA5.csv')\n",
    "# Fixing the different time axis representations:\n",
    "for i in range(np.max(np.shape(era5_sfs50))):\n",
    "    era5_sfs50['datetime'][i]= datetime.datetime.strptime(era5_sfs50.datetime[i], '%Y-%m-%d %H:%M:%S')    \n",
    "    \n",
    "merra_sfs30 = pd.read_csv('../data/v03/mosasfs_level2v3_30_MERRA.csv')\n",
    "# Fixing the different time axis representations:\n",
    "for i in range(np.max(np.shape(merra_sfs30))):\n",
    "    merra_sfs30['datetime'][i]= datetime.datetime.strptime(merra_sfs30.datetime[i], '%Y-%m-%d %H:%M:%S')\n",
    "    \n",
    "merra_sfs40 = pd.read_csv('../data/v03/mosasfs_level2v3_40_MERRA.csv')\n",
    "# Fixing the different time axis representations:\n",
    "for i in range(np.max(np.shape(merra_sfs40))):\n",
    "    merra_sfs40['datetime'][i]= datetime.datetime.strptime(merra_sfs40.datetime[i], '%Y-%m-%d %H:%M:%S')    \n",
    "    \n",
    "merra_sfs50 = pd.read_csv('../data/v03/mosasfs_level2v3_50_MERRA.csv')\n",
    "# Fixing the different time axis representations:\n",
    "for i in range(np.max(np.shape(merra_sfs50))):\n",
    "    merra_sfs50['datetime'][i]= datetime.datetime.strptime(merra_sfs50.datetime[i], '%Y-%m-%d %H:%M:%S')   \n",
    "    \n",
    "ncep_sfs30 = pd.read_csv('../data/v03/mosasfs_level2v3_30_NCEP.csv')\n",
    "# Fixing the different time axis representations:\n",
    "for i in range(np.max(np.shape(ncep_sfs30))):\n",
    "    ncep_sfs30['datetime'][i]= datetime.datetime.strptime(ncep_sfs30.datetime[i], '%Y-%m-%d %H:%M:%S')  \n",
    "    \n",
    "ncep_sfs40 = pd.read_csv('../data/v03/mosasfs_level2v3_40_NCEP.csv')\n",
    "# Fixing the different time axis representations:\n",
    "for i in range(np.max(np.shape(ncep_sfs40))):\n",
    "    ncep_sfs40['datetime'][i]= datetime.datetime.strptime(ncep_sfs40.datetime[i], '%Y-%m-%d %H:%M:%S')  \n",
    "    \n",
    "ncep_sfs50 = pd.read_csv('../data/v03/mosasfs_level2v3_50_NCEP.csv')\n",
    "# Fixing the different time axis representations:\n",
    "for i in range(np.max(np.shape(ncep_sfs50))):\n",
    "    ncep_sfs50['datetime'][i]= datetime.datetime.strptime(ncep_sfs50.datetime[i], '%Y-%m-%d %H:%M:%S')  "
   ]
  },
  {
   "cell_type": "markdown",
   "metadata": {},
   "source": [
    "#### Interpolate to hourly values"
   ]
  },
  {
   "cell_type": "code",
   "execution_count": null,
   "metadata": {},
   "outputs": [],
   "source": [
    "if (True):\n",
    "\n",
    "    mosasfs30met = xr.open_dataset(\"../data/v03/mosasfs30met.level2v3.10min.all.nc\")\n",
    "    mosasfs40met = xr.open_dataset(\"../data/v03/mosseb.asfs40.level2v3.10min.all.nc\")\n",
    "    mosasfs50met = xr.open_dataset(\"../data/v03/mosseb.asfs50.level2v3.10min.all.nc\")\n",
    "    \n",
    "    mosasfs30met_1h = mosasfs30met.resample(time=\"1H\").interpolate(\"linear\")\n",
    "    mosasfs40met_1h = mosasfs40met.resample(time=\"1H\").interpolate(\"linear\")\n",
    "    mosasfs50met_1h = mosasfs50met.resample(time=\"1H\").interpolate(\"linear\")\n",
    "    \n",
    "    pd.DataFrame(mosasfs30met_1h).to_csv(\"../data/v03/mosasfs30met.level2v3.1h.all.csv\",index=None) \n",
    "    pd.DataFrame(mosasfs40met_1h).to_csv(\"../data/v03/mosasfs40met.level2v3.1h.all.csv\",index=None) \n",
    "    pd.DataFrame(mosasfs50met_1h).to_csv(\"../data/v03/mosasfs50met.level2v3.1h.all.csv\",index=None)     \n",
    "else:\n",
    "    mosasfs30met_1h = pd.read_csv('../data/v03/mosasfs30met.level2v3.1h.all.csv')\n",
    "    mosasfs40met_1h = pd.read_csv('../data/v03/mosasfs40met.level2v3.1h.all.csv')\n",
    "    mosasfs50met_1h = pd.read_csv('../data/v03/mosasfs50met.level2v3.1h.all.csv')"
   ]
  },
  {
   "cell_type": "markdown",
   "metadata": {},
   "source": [
    "### MOSAiC"
   ]
  },
  {
   "cell_type": "code",
   "execution_count": null,
   "metadata": {},
   "outputs": [],
   "source": [
    "from matplotlib import pyplot as plt\n",
    "import matplotlib.ticker as ticker\n",
    "\n",
    "tstart=pd.Timestamp('2020-1-15')\n",
    "tend=pd.Timestamp('2020-2-1')\n",
    "\n",
    "fig = plt.figure(figsize=(14,14))\n",
    "\n",
    "ax1 = plt.subplot(511)\n",
    "ax1.plot(mosasfs40met_1h.time, mosasfs40met_1h.skin_temp_surface, '-',label='Obs')\n",
    "ax1.plot(era5_sfs40.datetime,era5_sfs40['skt']-273.15,'-',label='ERA-5')\n",
    "#ax1.plot(era5_sfs40.datetime,era5_sfs40['skt']-273.15-y_2,'-',label='ERA-5 corrected')\n",
    "ax1.plot(era5_sfs40.datetime,era5_sfs40['ist']-273.15,'.',label='MODIS')\n",
    "ax1.plot(merra_sfs40.datetime,merra_sfs40['skt']-273.15,'-',label='MERRA')\n",
    "ax1.plot(ncep_sfs40.datetime,ncep_sfs40['skt']-273.15,'-',label='NCEP')\n",
    "\n",
    "ax1.set_xlim(tstart,tend)\n",
    "ax1.legend()\n",
    "#ax1.set_ylim(120,270)\n",
    "plt.title('Downwelling long-wave radiation')\n"
   ]
  },
  {
   "cell_type": "code",
   "execution_count": null,
   "metadata": {},
   "outputs": [],
   "source": [
    "from matplotlib import pyplot as plt\n",
    "import matplotlib.ticker as ticker\n",
    "\n",
    "\n",
    "fig = plt.figure(figsize=(14,14))\n",
    "\n",
    "ax1 = plt.subplot(111)\n",
    "ax1.scatter( mosasfs40met_1h.down_long_hemisp,era5_sfs40['skt']-273.15-mosasfs40met_1h.skin_temp_surface,c=mosasfs40met_1h.skin_temp_surface,marker='o',label='Obs')\n",
    "ax1.scatter( x_predict,y_2)\n",
    "ax1.legend()\n",
    "#ax1.set_ylim(120,270)\n",
    "plt.title('Downwelling long-wave radiation')\n"
   ]
  },
  {
   "cell_type": "code",
   "execution_count": null,
   "metadata": {},
   "outputs": [],
   "source": [
    "import statsmodels.api as sm\n",
    "# adding the constant term\n",
    "x = sm.add_constant(x_predict)\n",
    "  \n",
    "# performing the regression\n",
    "# and fitting the model\n",
    "result = sm.OLS(y_predict, x).fit()\n",
    "  \n",
    "# printing the summary table\n",
    "print(result.summary())"
   ]
  },
  {
   "cell_type": "code",
   "execution_count": null,
   "metadata": {},
   "outputs": [],
   "source": [
    "y_2 = -0.0757* mosasfs40met_1h.down_long_hemisp+16.6 "
   ]
  },
  {
   "cell_type": "code",
   "execution_count": null,
   "metadata": {},
   "outputs": [],
   "source": []
  }
 ],
 "metadata": {
  "kernelspec": {
   "display_name": "Python 3",
   "language": "python",
   "name": "python3"
  },
  "language_info": {
   "codemirror_mode": {
    "name": "ipython",
    "version": 3
   },
   "file_extension": ".py",
   "mimetype": "text/x-python",
   "name": "python",
   "nbconvert_exporter": "python",
   "pygments_lexer": "ipython3",
   "version": "3.6.9"
  }
 },
 "nbformat": 4,
 "nbformat_minor": 2
}
